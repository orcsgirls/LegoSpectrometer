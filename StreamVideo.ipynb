{
 "cells": [
  {
   "cell_type": "markdown",
   "id": "e0e91f91",
   "metadata": {},
   "source": [
    "# Web Streaming\n",
    "\n",
    "This notebook will stream video from the Raspberry Pi camera to a webpage (http://orcspi.local:8000) and you can watch your spectrometer **life**. The code is from the <a href=\"http://picamera.readthedocs.io/en/latest/recipes2.html#web-streaming\">official PiCamera package</a>.\n",
    "\n",
    "**Note:** You can only run **one** notebook using the camera at a time - so either this one to stream or your spectrometer notebook to collect spectra - at least for now 😎"
   ]
  },
  {
   "cell_type": "markdown",
   "id": "295a2c50",
   "metadata": {},
   "source": [
    "### Server code\n",
    "\n",
    "This code is the server - just run :)"
   ]
  },
  {
   "cell_type": "code",
   "execution_count": null,
   "id": "2fe1d012",
   "metadata": {},
   "outputs": [],
   "source": [
    "import io\n",
    "import picamera\n",
    "import logging\n",
    "import socketserver\n",
    "from threading import Condition\n",
    "from http import server"
   ]
  },
  {
   "cell_type": "code",
   "execution_count": null,
   "id": "b31a0b72",
   "metadata": {},
   "outputs": [],
   "source": [
    "from IPython.display import HTML, IFrame"
   ]
  },
  {
   "cell_type": "code",
   "execution_count": null,
   "id": "373ea9a1",
   "metadata": {},
   "outputs": [],
   "source": [
    "PAGE=\"\"\"\\\n",
    "<html>\n",
    "<head>\n",
    "<title>Raspberry Pi - Spectrometer Camera</title>\n",
    "</head>\n",
    "<body>\n",
    "<center><h1>Raspberry Pi - Spectrometer Camera</h1></center>\n",
    "<center><img src=\"stream.mjpg\" width=\"640\" height=\"480\"></center>\n",
    "</body>\n",
    "</html>\n",
    "\"\"\"\n",
    "\n",
    "class StreamingOutput(object):\n",
    "    def __init__(self):\n",
    "        self.frame = None\n",
    "        self.buffer = io.BytesIO()\n",
    "        self.condition = Condition()\n",
    "\n",
    "    def write(self, buf):\n",
    "        if buf.startswith(b'\\xff\\xd8'):\n",
    "            # New frame, copy the existing buffer's content and notify all\n",
    "            # clients it's available\n",
    "            self.buffer.truncate()\n",
    "            with self.condition:\n",
    "                self.frame = self.buffer.getvalue()\n",
    "                self.condition.notify_all()\n",
    "            self.buffer.seek(0)\n",
    "        return self.buffer.write(buf)\n",
    "\n",
    "class StreamingHandler(server.BaseHTTPRequestHandler):\n",
    "    def do_GET(self):\n",
    "        if self.path == '/':\n",
    "            self.send_response(301)\n",
    "            self.send_header('Location', '/index.html')\n",
    "            self.end_headers()\n",
    "        elif self.path == '/index.html':\n",
    "            content = PAGE.encode('utf-8')\n",
    "            self.send_response(200)\n",
    "            self.send_header('Content-Type', 'text/html')\n",
    "            self.send_header('Content-Length', len(content))\n",
    "            self.end_headers()\n",
    "            self.wfile.write(content)\n",
    "        elif self.path == '/stream.mjpg':\n",
    "            self.send_response(200)\n",
    "            self.send_header('Age', 0)\n",
    "            self.send_header('Cache-Control', 'no-cache, private')\n",
    "            self.send_header('Pragma', 'no-cache')\n",
    "            self.send_header('Content-Type', 'multipart/x-mixed-replace; boundary=FRAME')\n",
    "            self.end_headers()\n",
    "            try:\n",
    "                while True:\n",
    "                    with output.condition:\n",
    "                        output.condition.wait()\n",
    "                        frame = output.frame\n",
    "                    self.wfile.write(b'--FRAME\\r\\n')\n",
    "                    self.send_header('Content-Type', 'image/jpeg')\n",
    "                    self.send_header('Content-Length', len(frame))\n",
    "                    self.end_headers()\n",
    "                    self.wfile.write(frame)\n",
    "                    self.wfile.write(b'\\r\\n')\n",
    "            except Exception as e:\n",
    "                logging.warning(\n",
    "                    'Removed streaming client %s: %s',\n",
    "                    self.client_address, str(e))\n",
    "        else:\n",
    "            self.send_error(404)\n",
    "            self.end_headers()\n",
    "\n",
    "class StreamingServer(socketserver.ThreadingMixIn, server.HTTPServer):\n",
    "    allow_reuse_address = True\n",
    "    daemon_threads = True\n",
    "    "
   ]
  },
  {
   "cell_type": "markdown",
   "id": "42040768",
   "metadata": {},
   "source": [
    "### Running server\n",
    "\n",
    "And here we actually run the server. While this cell is running, you can access  http://orcspi.local:8000."
   ]
  },
  {
   "cell_type": "code",
   "execution_count": null,
   "id": "efd8c26d",
   "metadata": {},
   "outputs": [],
   "source": [
    "with picamera.PiCamera(resolution='640x480', framerate=24) as camera, StreamingServer(('', 8000), StreamingHandler) as server:\n",
    "    \n",
    "    try:\n",
    "        # This is to output the video in IFrame\n",
    "        display(IFrame('http://orcspi.local:8000', width=800, height=600))\n",
    "\n",
    "        output = StreamingOutput()\n",
    "        camera.rotation = 270\n",
    "        camera.start_recording(output, format='mjpeg')\n",
    "        server.serve_forever()\n",
    "    except KeyboardInterrupt:\n",
    "        print('Interrupted')    \n",
    "    finally:\n",
    "        camera.stop_recording()"
   ]
  },
  {
   "cell_type": "code",
   "execution_count": null,
   "id": "2b422022",
   "metadata": {},
   "outputs": [],
   "source": []
  }
 ],
 "metadata": {
  "kernelspec": {
   "display_name": "Python 3",
   "language": "python",
   "name": "python3"
  },
  "language_info": {
   "codemirror_mode": {
    "name": "ipython",
    "version": 3
   },
   "file_extension": ".py",
   "mimetype": "text/x-python",
   "name": "python",
   "nbconvert_exporter": "python",
   "pygments_lexer": "ipython3",
   "version": "3.7.3"
  }
 },
 "nbformat": 4,
 "nbformat_minor": 5
}
