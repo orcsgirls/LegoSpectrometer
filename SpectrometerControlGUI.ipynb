{
 "cells": [
  {
   "cell_type": "markdown",
   "id": "c442d688",
   "metadata": {},
   "source": [
    "### Spectrometer Control Notebook\n",
    "\n",
    "This is the GUI version. All helper routines have been moved to the file `Helpers/Spectrometer.py` and get imported in the import statement below 📈. We will need one more module. Open a terminal and enter\n",
    "\n",
    "```\n",
    "sudo pip3 install ipympl\n",
    "```"
   ]
  },
  {
   "cell_type": "code",
   "execution_count": 1,
   "id": "ea801a84",
   "metadata": {},
   "outputs": [],
   "source": [
    "from Helpers.Spectrometer import *\n",
    "\n",
    "plt.rcParams['figure.figsize'] = [9, 6]\n",
    "%matplotlib widget\n",
    "\n",
    "initNeoPixel()\n",
    "initLCD()"
   ]
  },
  {
   "cell_type": "markdown",
   "id": "dd6e86a3",
   "metadata": {},
   "source": [
    "## Lego Spectrometer Control\n",
    "\n",
    "We are using `ipywidgets` to build a GUI to control the spectrometer. All routines are in `Helpers/Spectrometer.py`.\n",
    "\n",
    "#### Calibration defaults"
   ]
  },
  {
   "cell_type": "code",
   "execution_count": 2,
   "id": "43fa889d",
   "metadata": {},
   "outputs": [],
   "source": [
    "\n",
    "# Defaults\n",
    "scientist = \"Thomas P.\"\n",
    "\n",
    "# Rotation and cropping\n",
    "angle   = 0.0\n",
    "cropbox = [0,200,250,290]\n",
    "\n",
    "# pixel number of the green and orange line in the CFL spectrum \n",
    "pixelL1 = 122\n",
    "pixelL2 = 180\n",
    "\n",
    "# Wavelength used in reference spectrum (not in GUI)\n",
    "calib1 = \"Green\"\n",
    "calib2 = \"Orange\"\n",
    "waveL1 = 544.0\n",
    "waveL2 = 611.0"
   ]
  },
  {
   "cell_type": "markdown",
   "id": "9d2f74d7",
   "metadata": {},
   "source": [
    " #### Call Spectrometer Controller\n",
    " \n",
    " All we need to do now is call `spectrometerControl()`. Feel free to explore the code in `Helpers/Spectrometer.py`."
   ]
  },
  {
   "cell_type": "code",
   "execution_count": 3,
   "id": "308d1b1d",
   "metadata": {
    "scrolled": false
   },
   "outputs": [
    {
     "data": {
      "application/vnd.jupyter.widget-view+json": {
       "model_id": "3b24bacfdb484795a50754232e9e8c0a",
       "version_major": 2,
       "version_minor": 0
      },
      "text/plain": [
       "Tab(children=(HBox(children=(VBox(children=(HTML(value='<h4>Experiment</h4>'), Text(value='', description='Tim…"
      ]
     },
     "metadata": {},
     "output_type": "display_data"
    }
   ],
   "source": [
    "spectrometerControl(waveL1, waveL2, scientist, angle, pixelL1, pixelL2, calib1, calib2, cropbox)"
   ]
  },
  {
   "cell_type": "code",
   "execution_count": null,
   "id": "7a638722",
   "metadata": {},
   "outputs": [],
   "source": []
  }
 ],
 "metadata": {
  "kernelspec": {
   "display_name": "Python 3",
   "language": "python",
   "name": "python3"
  },
  "language_info": {
   "codemirror_mode": {
    "name": "ipython",
    "version": 3
   },
   "file_extension": ".py",
   "mimetype": "text/x-python",
   "name": "python",
   "nbconvert_exporter": "python",
   "pygments_lexer": "ipython3",
   "version": "3.7.3"
  }
 },
 "nbformat": 4,
 "nbformat_minor": 5
}
