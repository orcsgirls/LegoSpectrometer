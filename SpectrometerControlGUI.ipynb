{
 "cells": [
  {
   "cell_type": "code",
   "execution_count": 1,
   "id": "af717eb1",
   "metadata": {},
   "outputs": [],
   "source": [
    "%load_ext autoreload"
   ]
  },
  {
   "cell_type": "markdown",
   "id": "1bf4db74",
   "metadata": {},
   "source": [
    "## Spectrometer Control Notebook\n",
    "\n",
    "This is the GUI version. All helper routines have been moved to the file helpers/Spectrometer.py and get imported in the import statement below 📈. We will need one more module. Open a terminal and enter\n",
    "\n",
    "```\n",
    "sudo pip3 install ipympl\n",
    "```"
   ]
  },
  {
   "cell_type": "code",
   "execution_count": 2,
   "id": "0ee2c6a9",
   "metadata": {},
   "outputs": [],
   "source": [
    "from helpers.Spectrometer import *\n",
    "\n",
    "plt.rcParams['figure.figsize'] = [10, 7]\n",
    "%matplotlib widget\n",
    "\n",
    "%autoreload 2"
   ]
  },
  {
   "cell_type": "markdown",
   "id": "6ddd550b",
   "metadata": {},
   "source": [
    "### Setup\n",
    "\n",
    "We now create an instance of the spectrometer class. The code is in `helpers/Spectrometer.py` imported earlier. Feel free to check it out 😎"
   ]
  },
  {
   "cell_type": "code",
   "execution_count": 3,
   "id": "9c8cdfad",
   "metadata": {},
   "outputs": [],
   "source": [
    "spec = Spectrometer(lcd=True, neopixel=True)"
   ]
  },
  {
   "cell_type": "markdown",
   "id": "48a40cfe",
   "metadata": {},
   "source": [
    "Now we set the default values. Note you can change many of them in the spectrometer interface as well."
   ]
  },
  {
   "cell_type": "code",
   "execution_count": 4,
   "id": "88a545f4",
   "metadata": {},
   "outputs": [],
   "source": [
    "# Local web log server (run python3 -m http.server) and video stream\n",
    "spec.localurl  = 'http://orcspi.local:8000/'\n",
    "spec.streamurl  = 'http://orcspi.local:4664/'\n",
    "\n",
    "# Other defaults\n",
    "spec.m_name.value = \"Thomas P.\"\n",
    "\n",
    "# Rotation and cropping\n",
    "spec.p_rot.value  = str(0.0)\n",
    "spec.setCrop([0,200,250,290])\n",
    "\n",
    "# Calibration line defaults (here CFL bulb) \n",
    "spec.p_pix1.description = \"Pix Green\"\n",
    "spec.p_pix1.value = \"122\"\n",
    "spec.waveL1 = 544.0\n",
    "\n",
    "spec.p_pix2.description = \"Pix Orange\"\n",
    "spec.p_pix2.value = \"180\"\n",
    "spec.waveL2 = 611.0"
   ]
  },
  {
   "cell_type": "markdown",
   "id": "46c64f57",
   "metadata": {},
   "source": [
    "Finally here we bring up the spectrometer interface. Happy measuring 📈"
   ]
  },
  {
   "cell_type": "code",
   "execution_count": 6,
   "id": "639aaa1f",
   "metadata": {},
   "outputs": [
    {
     "data": {
      "application/vnd.jupyter.widget-view+json": {
       "model_id": "701300111ef540da95f73f21709a7814",
       "version_major": 2,
       "version_minor": 0
      },
      "text/plain": [
       "Tab(children=(HBox(children=(VBox(children=(HTML(value='<h4>Experiment</h4>'), Text(value='', description='Tim…"
      ]
     },
     "metadata": {},
     "output_type": "display_data"
    }
   ],
   "source": [
    "spec.show()"
   ]
  },
  {
   "cell_type": "markdown",
   "id": "255490cf",
   "metadata": {},
   "source": [
    "#### Playground"
   ]
  },
  {
   "cell_type": "code",
   "execution_count": null,
   "id": "741ba9d3",
   "metadata": {},
   "outputs": [],
   "source": [
    "spec.close()"
   ]
  },
  {
   "cell_type": "code",
   "execution_count": null,
   "id": "6bb8e444",
   "metadata": {},
   "outputs": [],
   "source": []
  },
  {
   "cell_type": "code",
   "execution_count": null,
   "id": "a305b607",
   "metadata": {},
   "outputs": [],
   "source": []
  }
 ],
 "metadata": {
  "kernelspec": {
   "display_name": "Python 3",
   "language": "python",
   "name": "python3"
  },
  "language_info": {
   "codemirror_mode": {
    "name": "ipython",
    "version": 3
   },
   "file_extension": ".py",
   "mimetype": "text/x-python",
   "name": "python",
   "nbconvert_exporter": "python",
   "pygments_lexer": "ipython3",
   "version": "3.7.3"
  }
 },
 "nbformat": 4,
 "nbformat_minor": 5
}
